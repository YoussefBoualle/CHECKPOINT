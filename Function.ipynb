{
 "cells": [
  {
   "cell_type": "code",
   "execution_count": 8,
   "id": "ddd246be",
   "metadata": {},
   "outputs": [
    {
     "name": "stdout",
     "output_type": "stream",
     "text": [
      "14\n"
     ]
    }
   ],
   "source": [
    "def maximum(a , b, c):\n",
    "    if (a >= b) and (a >= c):\n",
    "        largest = a\n",
    "  \n",
    "    elif (b >= a) and (b >= c):\n",
    "        largest = b\n",
    "    else:\n",
    "        largest = c\n",
    "          \n",
    "    return largest\n",
    "a = 10 \n",
    "b = 14\n",
    "c = 12\n",
    "print(maximum(a , b,c ))"
   ]
  },
  {
   "cell_type": "code",
   "execution_count": 13,
   "id": "9f39ef2f",
   "metadata": {},
   "outputs": [
    {
     "name": "stdout",
     "output_type": "stream",
     "text": [
      "(9, 1)\n"
     ]
    }
   ],
   "source": [
    "def calculation(x,y):\n",
    "    return x+y, x-y\n",
    "print(calculation(5,4))"
   ]
  },
  {
   "cell_type": "code",
   "execution_count": 19,
   "id": "2bd0ecab",
   "metadata": {},
   "outputs": [
    {
     "name": "stdout",
     "output_type": "stream",
     "text": [
      "6\n",
      "24\n"
     ]
    }
   ],
   "source": [
    "def multyplylist(myList):\n",
    "    result=1\n",
    "    for x in myList:\n",
    "        result= result * x\n",
    "        return result\n",
    "list1 = [1,2,3]\n",
    "list2 = [3,2,4]\n",
    "print(multiplyList(list1))\n",
    "print(multiplyList(list2))"
   ]
  },
  {
   "cell_type": "code",
   "execution_count": null,
   "id": "3db635c9",
   "metadata": {},
   "outputs": [],
   "source": [
    "items = input()\n",
    "\n",
    "print(\"-\".join(sorted(items.split(\"-\"))))\n"
   ]
  },
  {
   "cell_type": "code",
   "execution_count": null,
   "id": "82efdde1",
   "metadata": {},
   "outputs": [],
   "source": [
    "\n"
   ]
  },
  {
   "cell_type": "code",
   "execution_count": null,
   "id": "0fabae09",
   "metadata": {},
   "outputs": [],
   "source": []
  },
  {
   "cell_type": "code",
   "execution_count": null,
   "id": "dcdc76d5",
   "metadata": {},
   "outputs": [],
   "source": []
  }
 ],
 "metadata": {
  "kernelspec": {
   "display_name": "Python 3 (ipykernel)",
   "language": "python",
   "name": "python3"
  },
  "language_info": {
   "codemirror_mode": {
    "name": "ipython",
    "version": 3
   },
   "file_extension": ".py",
   "mimetype": "text/x-python",
   "name": "python",
   "nbconvert_exporter": "python",
   "pygments_lexer": "ipython3",
   "version": "3.9.12"
  }
 },
 "nbformat": 4,
 "nbformat_minor": 5
}
