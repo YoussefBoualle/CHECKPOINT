{
 "cells": [
  {
   "cell_type": "code",
   "execution_count": 9,
   "id": "b9e36e07",
   "metadata": {},
   "outputs": [
    {
     "name": "stdout",
     "output_type": "stream",
     "text": [
      "(4, 3, 2)\n"
     ]
    }
   ],
   "source": [
    "class Point3D():\n",
    "    def __init__(self,x,y,z):\n",
    "        self.x = x\n",
    "        self.y = y\n",
    "        self.z = z\n",
    "    def youssef(self):\n",
    "        return (self.x, self.y, self.z)\n",
    "        \n",
    "my_point = Point3D(4,3,2)    \n",
    "print(my_point.youssef())\n",
    "\n"
   ]
  },
  {
   "cell_type": "code",
   "execution_count": 16,
   "id": "c7237ca1",
   "metadata": {},
   "outputs": [
    {
     "name": "stdout",
     "output_type": "stream",
     "text": [
      "12\n"
     ]
    }
   ],
   "source": [
    "class Rectangle():\n",
    "    def __init__(self, l, w):\n",
    "        self.length = l\n",
    "        self.width  = w\n",
    "\n",
    "    def rectangle_area(self):\n",
    "        return self.length*self.width\n",
    "\n",
    "newRectangle = Rectangle(3, 4)\n",
    "print(newRectangle.rectangle_area())\n"
   ]
  },
  {
   "cell_type": "code",
   "execution_count": 15,
   "id": "b8ad51ac",
   "metadata": {},
   "outputs": [
    {
     "name": "stdout",
     "output_type": "stream",
     "text": [
      "14\n"
     ]
    }
   ],
   "source": [
    "class Rectangle:\n",
    "    def __init__(self, width, length):\n",
    "        self.length = length\n",
    "        self.width = width\n",
    "        \n",
    "    \n",
    "    def calculate_perimeter(self):\n",
    "        \n",
    "        return 2 * (self.width + self.length)\n",
    "    \n",
    "Rectangle_1 = Rectangle(3, 4)\n",
    "\n",
    "print (Rectangle_1.calculate_perimeter())"
   ]
  },
  {
   "cell_type": "code",
   "execution_count": 26,
   "id": "9016414b",
   "metadata": {},
   "outputs": [
    {
     "name": "stdout",
     "output_type": "stream",
     "text": [
      "379.94\n",
      "69.08\n"
     ]
    }
   ],
   "source": [
    "class Circle():\n",
    "    def __init__(self, r):\n",
    "        self.radius = r\n",
    "\n",
    "    def area(self):\n",
    "        return self.radius**2*3.14\n",
    "    \n",
    "    def perimeter(self):\n",
    "        return 2*self.radius*3.14\n",
    "\n",
    "YoussefCircle = Circle(11)\n",
    "print(YoussefCircle.area())\n",
    "print(YoussefCircle.perimeter())"
   ]
  },
  {
   "cell_type": "code",
   "execution_count": 17,
   "id": "4f40c10f",
   "metadata": {
    "scrolled": true
   },
   "outputs": [
    {
     "name": "stdout",
     "output_type": "stream",
     "text": [
      "300\n",
      "700\n"
     ]
    }
   ],
   "source": [
    "class BankAccount():\n",
    "    def __init__(self,b):\n",
    "        self.balance = b\n",
    "    def widthdraw(self,x):\n",
    "        self.balance = self.balance - x\n",
    "        return self.balance\n",
    "    def deposit(self,x):\n",
    "        self.balance = self.balance + x\n",
    "        return self.balance\n",
    "        \n",
    "YoussefBankAccount = BankAccount(800)\n",
    "print(YoussefBankAccount.widthdraw(500))\n",
    "print(YoussefBankAccount.deposit(400))\n",
    "    \n",
    "    \n",
    "    \n",
    "    \n",
    "    \n",
    "    \n",
    "    \n",
    "    \n",
    "    "
   ]
  },
  {
   "cell_type": "code",
   "execution_count": null,
   "id": "f68d9eaa",
   "metadata": {
    "scrolled": true
   },
   "outputs": [],
   "source": []
  }
 ],
 "metadata": {
  "kernelspec": {
   "display_name": "Python 3 (ipykernel)",
   "language": "python",
   "name": "python3"
  },
  "language_info": {
   "codemirror_mode": {
    "name": "ipython",
    "version": 3
   },
   "file_extension": ".py",
   "mimetype": "text/x-python",
   "name": "python",
   "nbconvert_exporter": "python",
   "pygments_lexer": "ipython3",
   "version": "3.9.12"
  }
 },
 "nbformat": 4,
 "nbformat_minor": 5
}
